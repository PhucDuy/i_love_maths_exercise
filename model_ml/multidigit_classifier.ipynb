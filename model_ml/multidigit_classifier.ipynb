{
 "cells": [
  {
   "cell_type": "markdown",
   "metadata": {},
   "source": [
    "# AI CALCULATOR\n",
    "\n",
    "🎲🎲🎲\n",
    "\n",
    "This notebook is the baseline solution to classify number and 3 basic mathematics operators, 1 - 10, +,-, and x.\n",
    "\n",
    "In this example, half of the data is trained. **Your task: FINE TUNE & TRAIN THE WHOLE DATASET**"
   ]
  },
  {
   "cell_type": "markdown",
   "metadata": {},
   "source": [
    "## IMPORT LIBRARIES"
   ]
  },
  {
   "cell_type": "code",
   "execution_count": 1,
   "metadata": {},
   "outputs": [
    {
     "name": "stdout",
     "output_type": "stream",
     "text": [
      "2.1.0\n"
     ]
    }
   ],
   "source": [
    "from __future__ import absolute_import, division, print_function, unicode_literals\n",
    "import tensorflow as tf\n",
    "print(tf.__version__) #If not Tensorflow 2 !pip install tensorflow-gpu==2.1.0\n",
    "\n",
    "\n",
    "import shutil # copy, move file\n",
    "import os\n",
    "import pathlib\n",
    "\n",
    "import random\n",
    "import numpy as np\n",
    "\n",
    "from sklearn.model_selection import train_test_split\n",
    "\n",
    "import matplotlib.pylab as plt\n",
    "%matplotlib inline\n",
    "\n",
    "from collections import Counter"
   ]
  },
  {
   "cell_type": "markdown",
   "metadata": {},
   "source": [
    "## LOAD DATA"
   ]
  },
  {
   "cell_type": "code",
   "execution_count": 2,
   "metadata": {},
   "outputs": [],
   "source": [
    "# !unzip complete_data.zip"
   ]
  },
  {
   "cell_type": "markdown",
   "metadata": {},
   "source": [
    "### Load all image paths"
   ]
  },
  {
   "cell_type": "code",
   "execution_count": 3,
   "metadata": {},
   "outputs": [
    {
     "name": "stdout",
     "output_type": "stream",
     "text": [
      "There is total 19449 images.\n"
     ]
    }
   ],
   "source": [
    "# Path to dataset\n",
    "data_root = pathlib.Path('./complete_data')\n",
    "\n",
    "# Find all image's path\n",
    "all_image_paths = list(data_root.glob(\"**/*\"))\n",
    "\n",
    "# Check if the path contains file\n",
    "all_image_paths = [str(path) for path in all_image_paths if path.is_file()]\n",
    "\n",
    "# Make sure data is well-shuffled\n",
    "random.shuffle(all_image_paths)\n",
    "\n",
    "# Count the number of images\n",
    "image_count = len(all_image_paths)\n",
    "\n",
    "print(f'There is total {image_count} images.')"
   ]
  },
  {
   "cell_type": "markdown",
   "metadata": {},
   "source": [
    "Our folder may contain other files that not image. Cross them out. "
   ]
  },
  {
   "cell_type": "code",
   "execution_count": 4,
   "metadata": {},
   "outputs": [
    {
     "name": "stdout",
     "output_type": "stream",
     "text": [
      "Finished scanning 1/19449 files.\n",
      "Finished scanning 3001/19449 files.\n",
      "Finished scanning 6001/19449 files.\n",
      "Finished scanning 9001/19449 files.\n",
      "Finished scanning 12001/19449 files.\n",
      "Finished scanning 15001/19449 files.\n",
      "Finished scanning 18001/19449 files.\n",
      "Finished scanning 19449/19449 files.\n"
     ]
    }
   ],
   "source": [
    "# Read image files and ignore DS_Store\n",
    "for index, image_path in enumerate(all_image_paths):\n",
    "    if (image_path.split('.')[1] != \"DS_Store\") :\n",
    "        try:\n",
    "            image = tf.io.read_file(image_path)\n",
    "            image = tf.image.decode_jpeg(image, channels=3)\n",
    "        except:\n",
    "            print(f'Image {all_image_paths[index]} is not readable.')\n",
    "        \n",
    "        if index % 3000 == 0 or index == image_count-1: \n",
    "            print(f'Finished scanning {index+1}/{image_count} files.')\n",
    "    else:\n",
    "        all_image_paths.remove(image_path)"
   ]
  },
  {
   "cell_type": "markdown",
   "metadata": {},
   "source": [
    "## PREPROCESSING "
   ]
  },
  {
   "cell_type": "markdown",
   "metadata": {},
   "source": [
    "### Labels"
   ]
  },
  {
   "cell_type": "code",
   "execution_count": 5,
   "metadata": {},
   "outputs": [
    {
     "data": {
      "text/plain": [
       "array(['0', '1', '10', '11', '12', '2', '3', '4', '5', '6', '7', '8', '9',\n",
       "       'complete_data'], dtype='<U13')"
      ]
     },
     "execution_count": 5,
     "metadata": {},
     "output_type": "execute_result"
    }
   ],
   "source": [
    "# Get labels from folder names\n",
    "label_names = sorted(item.name for item in data_root.glob('**/') if item.is_dir())\n",
    "label_names = np.array(label_names)\n",
    "\n",
    "label_names"
   ]
  },
  {
   "cell_type": "code",
   "execution_count": 6,
   "metadata": {},
   "outputs": [],
   "source": [
    "# Might have to remove unrelevant folders (checkpoint, hidden folders, ...)\n",
    "# label_names.remove('.ipynb_checkpoints')\n",
    "label_names=label_names[:-1]"
   ]
  },
  {
   "cell_type": "code",
   "execution_count": 7,
   "metadata": {},
   "outputs": [
    {
     "data": {
      "text/plain": [
       "array([ 0,  1, 10, 11, 12,  2,  3,  4,  5,  6,  7,  8,  9])"
      ]
     },
     "execution_count": 7,
     "metadata": {},
     "output_type": "execute_result"
    }
   ],
   "source": [
    "# Convert into integer \n",
    "label_names = label_names.astype(int)\n",
    "\n",
    "label_names"
   ]
  },
  {
   "cell_type": "code",
   "execution_count": 8,
   "metadata": {},
   "outputs": [
    {
     "data": {
      "text/plain": [
       "array([ 0,  1,  2,  3,  4,  5,  6,  7,  8,  9, 10, 11, 12])"
      ]
     },
     "execution_count": 8,
     "metadata": {},
     "output_type": "execute_result"
    }
   ],
   "source": [
    "# Order the labels so we dont need to remember \n",
    "# the order it appears 1 -> 2 -> 3 -> 4 -> 5 -> 6 -> 7 -> 8 ...\n",
    "label_names.sort()\n",
    "\n",
    "label_names"
   ]
  },
  {
   "cell_type": "code",
   "execution_count": 9,
   "metadata": {},
   "outputs": [
    {
     "data": {
      "text/plain": [
       "{'0': 0,\n",
       " '1': 1,\n",
       " '2': 2,\n",
       " '3': 3,\n",
       " '4': 4,\n",
       " '5': 5,\n",
       " '6': 6,\n",
       " '7': 7,\n",
       " '8': 8,\n",
       " '9': 9,\n",
       " '10': 10,\n",
       " '11': 11,\n",
       " '12': 12}"
      ]
     },
     "execution_count": 9,
     "metadata": {},
     "output_type": "execute_result"
    }
   ],
   "source": [
    "# Create dictionary for prediction index to real label (in our case, it happens to be very similar on both side)\n",
    "label_to_index = dict((str(name), index) for index, name in enumerate(label_names))\n",
    "\n",
    "label_to_index"
   ]
  },
  {
   "cell_type": "code",
   "execution_count": 10,
   "metadata": {},
   "outputs": [
    {
     "name": "stdout",
     "output_type": "stream",
     "text": [
      "First 10 labels indices: [12, 5, 4, 6, 4, 12, 9, 10, 11, 10]\n"
     ]
    }
   ],
   "source": [
    "# Find all image's labels from all_image_paths\n",
    "all_image_labels = [label_to_index[pathlib.Path(path).parent.name]\n",
    "                    for path in all_image_paths]\n",
    "\n",
    "# get the first 10 lables to check if the random shuffle actually work\n",
    "print(f\"First 10 labels indices: {all_image_labels[:10]}\")"
   ]
  },
  {
   "cell_type": "code",
   "execution_count": 11,
   "metadata": {},
   "outputs": [
    {
     "data": {
      "text/plain": [
       "Counter({12: 2927,\n",
       "         5: 909,\n",
       "         4: 993,\n",
       "         6: 1614,\n",
       "         9: 544,\n",
       "         10: 3771,\n",
       "         11: 3042,\n",
       "         0: 1266,\n",
       "         7: 529,\n",
       "         2: 901,\n",
       "         8: 704,\n",
       "         3: 814,\n",
       "         1: 1435})"
      ]
     },
     "execution_count": 11,
     "metadata": {},
     "output_type": "execute_result"
    }
   ],
   "source": [
    "# Count number of images from each class\n",
    "count = Counter()\n",
    "\n",
    "for label in all_image_labels:\n",
    "    count[label_names[label]] += 1\n",
    "\n",
    "count "
   ]
  },
  {
   "cell_type": "markdown",
   "metadata": {},
   "source": [
    "### Images"
   ]
  },
  {
   "cell_type": "code",
   "execution_count": 12,
   "metadata": {},
   "outputs": [],
   "source": [
    "def load_and_preprocess_image(path):\n",
    "    \"\"\" Read and process images into grayscale, resized, and standardized.\n",
    "    \"\"\"\n",
    "    image = tf.io.read_file(path)\n",
    "    image = tf.image.decode_jpeg(image, channels=3)\n",
    "    image = tf.image.rgb_to_grayscale(image)\n",
    "    image = tf.image.resize(image, [28, 28])\n",
    "    image = (255 - image)/255.0 #Normalize and invert image\n",
    "    \n",
    "    return image\n",
    "\n",
    "def load_and_preprocess_from_path_label(path, label):\n",
    "    return load_and_preprocess_image(path), label"
   ]
  },
  {
   "cell_type": "code",
   "execution_count": 13,
   "metadata": {},
   "outputs": [
    {
     "data": {
      "image/png": "[encoded data removed]",
      "text/plain": [
       "<Figure size 432x288 with 1 Axes>"
      ]
     },
     "metadata": {
      "needs_background": "light"
     },
     "output_type": "display_data"
    }
   ],
   "source": [
    "# Visualize training images\n",
    "index = random.randint(0, image_count)\n",
    "image_path = all_image_paths[index]\n",
    "label = all_image_labels[index]\n",
    "\n",
    "# Show image\n",
    "plt.imshow(load_and_preprocess_image(image_path)[:,:,0], cmap='gray')\n",
    "plt.grid(False)\n",
    "plt.title(f'{label_names[label]} - {image_path}')\n",
    "plt.show()"
   ]
  },
  {
   "cell_type": "code",
   "execution_count": 14,
   "metadata": {},
   "outputs": [],
   "source": [
    "# split the data for train set and test set\n",
    "train_image_paths, test_image_paths, train_image_labels, test_image_labels = train_test_split(all_image_paths, \n",
    "                                                                                              all_image_labels, \n",
    "                                                                                              test_size=0.2, \n",
    "                                                                                              random_state=101)"
   ]
  },
  {
   "cell_type": "code",
   "execution_count": 15,
   "metadata": {},
   "outputs": [
    {
     "name": "stdout",
     "output_type": "stream",
     "text": [
      "Training set contains 15559 images.\n",
      "Testing set contains 3890 images.\n"
     ]
    }
   ],
   "source": [
    "print(f'Training set contains {len(train_image_paths)} images.')\n",
    "print(f'Testing set contains {len(test_image_paths)} images.')"
   ]
  },
  {
   "cell_type": "markdown",
   "metadata": {},
   "source": [
    "## CREATE DATASET"
   ]
  },
  {
   "cell_type": "code",
   "execution_count": 16,
   "metadata": {},
   "outputs": [],
   "source": [
    "BATCH_SIZE = 32\n",
    "AUTOTUNE = tf.data.experimental.AUTOTUNE\n",
    "\n",
    "def create_ds(all_image_paths, all_image_labels):\n",
    "    \n",
    "    # prepare the dataset for pipeline with tensor_slices\n",
    "    ds = tf.data.Dataset.from_tensor_slices((all_image_paths, all_image_labels))\n",
    "    \n",
    "    # map the load_and_preprocess_from_path_label function to the pipeline\n",
    "    image_label_ds = ds.map(load_and_preprocess_from_path_label)\n",
    "\n",
    "    # Setting a shuffle buffer size as large as the dataset ensures that the data is \n",
    "    # well-shuffled, so the order of training will be different for every epoch.\n",
    "    ds = image_label_ds.shuffle(buffer_size=image_count).repeat().batch(BATCH_SIZE)\n",
    "    \n",
    "    # `prefetch` lets the dataset fetch batches in the background while the model is training.\n",
    "    ds = ds.prefetch(buffer_size=AUTOTUNE)\n",
    "    \n",
    "    return ds"
   ]
  },
  {
   "cell_type": "code",
   "execution_count": 17,
   "metadata": {},
   "outputs": [],
   "source": [
    "# create dataset for train set and test set\n",
    "train_ds = create_ds(train_image_paths, train_image_labels)\n",
    "test_ds = create_ds(test_image_paths, test_image_labels)"
   ]
  },
  {
   "cell_type": "code",
   "execution_count": 18,
   "metadata": {},
   "outputs": [
    {
     "data": {
      "text/plain": [
       "<PrefetchDataset shapes: ((None, 28, 28, 1), (None,)), types: (tf.float32, tf.int32)>"
      ]
     },
     "execution_count": 18,
     "metadata": {},
     "output_type": "execute_result"
    }
   ],
   "source": [
    "train_ds "
   ]
  },
  {
   "cell_type": "markdown",
   "metadata": {},
   "source": [
    "## MODEL"
   ]
  },
  {
   "cell_type": "code",
   "execution_count": 19,
   "metadata": {},
   "outputs": [],
   "source": [
    "def build_model():\n",
    "    model = tf.keras.Sequential([   \n",
    "          tf.keras.layers.Conv2D(kernel_size=3, filters=12, use_bias=False, padding='same', input_shape=(28, 28, 1)),\n",
    "          tf.keras.layers.BatchNormalization(center=True, scale=False),\n",
    "          tf.keras.layers.Activation('relu'),\n",
    "          tf.keras.layers.Dropout(0.2),        \n",
    "\n",
    "          tf.keras.layers.Conv2D(kernel_size=6, filters=24, use_bias=False, padding='same', strides=2),\n",
    "          tf.keras.layers.BatchNormalization(center=True, scale=False),\n",
    "          tf.keras.layers.Activation('relu'),\n",
    "          tf.keras.layers.Dropout(0.2),\n",
    "        \n",
    "          tf.keras.layers.Conv2D(kernel_size=6, filters=48, use_bias=False, padding='same', strides=2),\n",
    "          tf.keras.layers.BatchNormalization(center=True, scale=False),\n",
    "          tf.keras.layers.Activation('relu'),\n",
    "          tf.keras.layers.Dropout(0.2),\n",
    "        \n",
    "          tf.keras.layers.Flatten(),\n",
    "\n",
    "          tf.keras.layers.Dense(200, use_bias=False),\n",
    "          tf.keras.layers.BatchNormalization(center=True, scale=False),\n",
    "          tf.keras.layers.Activation('relu'),\n",
    "          tf.keras.layers.Dropout(0.5),\n",
    "        \n",
    "          tf.keras.layers.Dense(len(label_names), activation='softmax')\n",
    "      ])\n",
    "    \n",
    "    return model"
   ]
  },
  {
   "cell_type": "code",
   "execution_count": 20,
   "metadata": {},
   "outputs": [
    {
     "name": "stdout",
     "output_type": "stream",
     "text": [
      "Model: \"sequential\"\n",
      "_________________________________________________________________\n",
      "Layer (type)                 Output Shape              Param #   \n",
      "=================================================================\n",
      "conv2d (Conv2D)              (None, 28, 28, 12)        108       \n",
      "_________________________________________________________________\n",
      "batch_normalization (BatchNo (None, 28, 28, 12)        36        \n",
      "_________________________________________________________________\n",
      "activation (Activation)      (None, 28, 28, 12)        0         \n",
      "_________________________________________________________________\n",
      "dropout (Dropout)            (None, 28, 28, 12)        0         \n",
      "_________________________________________________________________\n",
      "conv2d_1 (Conv2D)            (None, 14, 14, 24)        10368     \n",
      "_________________________________________________________________\n",
      "batch_normalization_1 (Batch (None, 14, 14, 24)        72        \n",
      "_________________________________________________________________\n",
      "activation_1 (Activation)    (None, 14, 14, 24)        0         \n",
      "_________________________________________________________________\n",
      "dropout_1 (Dropout)          (None, 14, 14, 24)        0         \n",
      "_________________________________________________________________\n",
      "conv2d_2 (Conv2D)            (None, 7, 7, 48)          41472     \n",
      "_________________________________________________________________\n",
      "batch_normalization_2 (Batch (None, 7, 7, 48)          144       \n",
      "_________________________________________________________________\n",
      "activation_2 (Activation)    (None, 7, 7, 48)          0         \n",
      "_________________________________________________________________\n",
      "dropout_2 (Dropout)          (None, 7, 7, 48)          0         \n",
      "_________________________________________________________________\n",
      "flatten (Flatten)            (None, 2352)              0         \n",
      "_________________________________________________________________\n",
      "dense (Dense)                (None, 200)               470400    \n",
      "_________________________________________________________________\n",
      "batch_normalization_3 (Batch (None, 200)               600       \n",
      "_________________________________________________________________\n",
      "activation_3 (Activation)    (None, 200)               0         \n",
      "_________________________________________________________________\n",
      "dropout_3 (Dropout)          (None, 200)               0         \n",
      "_________________________________________________________________\n",
      "dense_1 (Dense)              (None, 13)                2613      \n",
      "=================================================================\n",
      "Total params: 525,813\n",
      "Trainable params: 525,245\n",
      "Non-trainable params: 568\n",
      "_________________________________________________________________\n"
     ]
    }
   ],
   "source": [
    "cnn_model = build_model()\n",
    "cnn_model.summary()"
   ]
  },
  {
   "cell_type": "code",
   "execution_count": 21,
   "metadata": {},
   "outputs": [],
   "source": [
    "cnn_model.compile(optimizer=tf.keras.optimizers.Adam(lr=0.01),\n",
    "                  loss='sparse_categorical_crossentropy',\n",
    "                  metrics=['accuracy'])"
   ]
  },
  {
   "cell_type": "markdown",
   "metadata": {},
   "source": [
    "## TRAIN"
   ]
  },
  {
   "cell_type": "markdown",
   "metadata": {},
   "source": [
    "### Callbacks"
   ]
  },
  {
   "cell_type": "code",
   "execution_count": 22,
   "metadata": {},
   "outputs": [],
   "source": [
    "# Batch Stats Collector that inherits Keras Callback\n",
    "class CollectBatchStats(tf.keras.callbacks.Callback):\n",
    "    def __init__(self):\n",
    "        self.batch_losses = []\n",
    "        self.batch_acc = []\n",
    "        self.batch_val_losses = []\n",
    "        self.batch_val_acc = []\n",
    "\n",
    "    def on_train_batch_end(self, batch, logs=None):\n",
    "        self.batch_losses.append(logs['loss'])\n",
    "        self.batch_acc.append(logs['accuracy'])\n",
    "        # reset_metrics: the metrics returned will be only for this batch. \n",
    "        # If False, the metrics will be statefully accumulated across batches.\n",
    "        self.model.reset_metrics()\n",
    "  \n",
    "    def on_test_batch_end(self, batch, logs=None):\n",
    "        self.batch_val_losses.append(logs['loss'])\n",
    "        self.batch_val_acc.append(logs['accuracy'])\n",
    "        # reset_metrics: the metrics returned will be only for this batch. \n",
    "        # If False, the metrics will be statefully accumulated across batches.\n",
    "        self.model.reset_metrics()\n",
    "\n",
    "# Plot learning curve \n",
    "def plot_stats(training_stats, val_stats, x_label='Training Steps', stats='loss'):\n",
    "    stats, x_label = stats.title(), x_label.title()\n",
    "    legend_loc = 'upper right' if stats=='loss' else 'lower right'\n",
    "    training_steps = len(training_stats)\n",
    "    test_steps = len(val_stats)\n",
    "\n",
    "    plt.figure()\n",
    "    plt.ylabel(stats)\n",
    "    plt.xlabel(x_label)\n",
    "    plt.plot(training_stats, label='Training ' + stats)\n",
    "    plt.plot(np.linspace(0, training_steps, test_steps), val_stats, label='Validation ' + stats)\n",
    "    plt.ylim([0,max(plt.ylim())])\n",
    "    plt.legend(loc=legend_loc)\n",
    "    plt.show()"
   ]
  },
  {
   "cell_type": "markdown",
   "metadata": {},
   "source": [
    "### Train Session"
   ]
  },
  {
   "cell_type": "code",
   "execution_count": 23,
   "metadata": {},
   "outputs": [],
   "source": [
    "# Calculate the number of steps to finish one epoch\n",
    "steps_per_epoch = len(train_image_labels) // BATCH_SIZE\n",
    "val_steps_per_epoch = len(test_image_labels) // BATCH_SIZE\n",
    "\n",
    "# Define callback\n",
    "batch_stats_callback = CollectBatchStats()"
   ]
  },
  {
   "cell_type": "code",
   "execution_count": 24,
   "metadata": {},
   "outputs": [
    {
     "name": "stdout",
     "output_type": "stream",
     "text": [
      "Train for 486 steps, validate for 121 steps\n",
      "Epoch 1/3\n",
      "486/486 [==============================] - 54s 111ms/step - loss: 0.2598 - accuracy: 1.0000 - val_loss: 0.1343 - val_accuracy: 0.9062\n",
      "Epoch 2/3\n",
      "486/486 [==============================] - 43s 89ms/step - loss: 0.0926 - accuracy: 1.0000 - val_loss: 0.1365 - val_accuracy: 0.9688\n",
      "Epoch 3/3\n",
      "486/486 [==============================] - 41s 84ms/step - loss: 0.0608 - accuracy: 0.9688 - val_loss: 0.0635 - val_accuracy: 1.0000\n"
     ]
    }
   ],
   "source": [
    "history = cnn_model.fit(train_ds, \n",
    "                        epochs=3, \n",
    "                        steps_per_epoch=steps_per_epoch,\n",
    "                        callbacks = [batch_stats_callback],\n",
    "                        validation_data=test_ds,\n",
    "                        validation_steps=val_steps_per_epoch)"
   ]
  },
  {
   "cell_type": "code",
   "execution_count": 25,
   "metadata": {},
   "outputs": [
    {
     "data": {
      "text/plain": [
       "<Figure size 1080x720 with 0 Axes>"
      ]
     },
     "metadata": {},
     "output_type": "display_data"
    },
    {
     "data": {
      "image/png": "[encoded data removed]",
      "text/plain": [
       "<Figure size 432x288 with 1 Axes>"
      ]
     },
     "metadata": {
      "needs_background": "light"
     },
     "output_type": "display_data"
    },
    {
     "data": {
      "image/png": "[encoded data removed]",
      "text/plain": [
       "<Figure size 432x288 with 1 Axes>"
      ]
     },
     "metadata": {
      "needs_background": "light"
     },
     "output_type": "display_data"
    }
   ],
   "source": [
    "# Visualize training session on batch \n",
    "plt.figure(figsize = (15, 10))\n",
    "\n",
    "plot_stats(batch_stats_callback.batch_losses, batch_stats_callback.batch_val_losses, stats='loss')\n",
    "plot_stats(batch_stats_callback.batch_acc, batch_stats_callback.batch_val_acc, stats='accuracy')"
   ]
  },
  {
   "cell_type": "code",
   "execution_count": 26,
   "metadata": {},
   "outputs": [
    {
     "data": {
      "text/plain": [
       "<Figure size 1080x720 with 0 Axes>"
      ]
     },
     "metadata": {},
     "output_type": "display_data"
    },
    {
     "data": {
      "image/png": "[encoded data removed]",
      "text/plain": [
       "<Figure size 432x288 with 1 Axes>"
      ]
     },
     "metadata": {
      "needs_background": "light"
     },
     "output_type": "display_data"
    },
    {
     "data": {
      "image/png": "[encoded data removed]",
      "text/plain": [
       "<Figure size 432x288 with 1 Axes>"
      ]
     },
     "metadata": {
      "needs_background": "light"
     },
     "output_type": "display_data"
    }
   ],
   "source": [
    "plt.figure(figsize = (15, 10))\n",
    "\n",
    "plot_stats(history.history['loss'], history.history['val_loss'], x_label='Epochs', stats='loss')\n",
    "plot_stats(history.history['accuracy'], history.history['val_accuracy'], x_label='Epochs', stats='accuracy');"
   ]
  },
  {
   "cell_type": "markdown",
   "metadata": {},
   "source": [
    "## Testing and preview"
   ]
  },
  {
   "cell_type": "code",
   "execution_count": 27,
   "metadata": {},
   "outputs": [
    {
     "name": "stdout",
     "output_type": "stream",
     "text": [
      "Image batch shape:  (32, 28, 28, 1)\n",
      "Label batch shape:  (32,)\n"
     ]
    }
   ],
   "source": [
    "# Take one batch to predict\n",
    "\n",
    "for image_batch, label_batch in test_ds.take(1):\n",
    "    print(\"Image batch shape: \", image_batch.shape)\n",
    "    print(\"Label batch shape: \", label_batch.shape)"
   ]
  },
  {
   "cell_type": "code",
   "execution_count": 28,
   "metadata": {},
   "outputs": [],
   "source": [
    "# Prediction \n",
    "predicted_batch = cnn_model.predict(image_batch)\n",
    "predicted_id = np.argmax(predicted_batch, axis=1)\n",
    "predicted_label_batch = label_names[predicted_id]"
   ]
  },
  {
   "cell_type": "code",
   "execution_count": 29,
   "metadata": {},
   "outputs": [
    {
     "data": {
      "image/png": "[encoded data removed]",
      "text/plain": [
       "<Figure size 720x648 with 30 Axes>"
      ]
     },
     "metadata": {
      "needs_background": "light"
     },
     "output_type": "display_data"
    }
   ],
   "source": [
    "# Plot the result\n",
    "plt.figure(figsize=(10,9))\n",
    "plt.subplots_adjust(hspace=0.5)\n",
    "for n in range(30):\n",
    "    plt.subplot(6,5,n+1)\n",
    "    plt.imshow(image_batch[n][:,:,0])\n",
    "    color = \"blue\" if predicted_id[n] == label_batch.numpy()[n] else \"red\"\n",
    "    plt.title(predicted_label_batch[n], color=color)\n",
    "    plt.axis('off')\n",
    "_ = plt.suptitle(\"Model predictions (Blue:Correct, Red:Incorrect)\")"
   ]
  },
  {
   "cell_type": "markdown",
   "metadata": {},
   "source": [
    "## Export model"
   ]
  },
  {
   "cell_type": "code",
   "execution_count": null,
   "metadata": {},
   "outputs": [],
   "source": [
    "# Export model\n",
    "cnn_model.save('complete.h5')"
   ]
  },
  {
   "cell_type": "code",
   "execution_count": null,
   "metadata": {},
   "outputs": [],
   "source": [
    "! pwd"
   ]
  },
  {
   "cell_type": "code",
   "execution_count": null,
   "metadata": {},
   "outputs": [],
   "source": [
    "# Test model\n",
    "reloaded_model = tf.keras.models.load_model('complete.h5')\n",
    "reloaded_model.summary()"
   ]
  },
  {
   "cell_type": "code",
   "execution_count": null,
   "metadata": {},
   "outputs": [],
   "source": [
    "# test if the current model result and export model result is consistent\n",
    "result_batch = cnn_model.predict(image_batch)\n",
    "reloaded_result_batch = reloaded_model.predict(image_batch)"
   ]
  },
  {
   "cell_type": "code",
   "execution_count": null,
   "metadata": {},
   "outputs": [],
   "source": [
    "# check if there is any difference, we expect 0.0 as result\n",
    "abs(reloaded_result_batch - result_batch).max()"
   ]
  }
 ],
 "metadata": {
  "kernelspec": {
   "display_name": "Python 3",
   "language": "python",
   "name": "python3"
  },
  "language_info": {
   "codemirror_mode": {
    "name": "ipython",
    "version": 3
   },
   "file_extension": ".py",
   "mimetype": "text/x-python",
   "name": "python",
   "nbconvert_exporter": "python",
   "pygments_lexer": "ipython3",
   "version": "3.7.6"
  }
 },
 "nbformat": 4,
 "nbformat_minor": 4
}
